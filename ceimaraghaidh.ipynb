{
 "cells": [
  {
   "cell_type": "code",
   "execution_count": null,
   "id": "aa173393",
   "metadata": {},
   "outputs": [],
   "source": [
    "import requests\n",
    "from bs4 import BeautifulSoup\n",
    "URL = 'http://ceimaraghaidh.ie/'"
   ]
  },
  {
   "cell_type": "code",
   "execution_count": null,
   "id": "ca8f3601",
   "metadata": {},
   "outputs": [],
   "source": [
    "landing_page = requests.get(URL)\n",
    "if landing_page.status_code != 200:\n",
    "    raise Exception(\"Failed to open landing page\")"
   ]
  },
  {
   "cell_type": "code",
   "execution_count": null,
   "id": "f8065de5",
   "metadata": {},
   "outputs": [],
   "source": [
    "lpsoup = BeautifulSoup(landing_page.text, 'html.parser')"
   ]
  },
  {
   "cell_type": "code",
   "execution_count": null,
   "id": "dd5d62d7",
   "metadata": {},
   "outputs": [],
   "source": [
    "header_menu = lpsoup.find('nav', id='primary-menu')"
   ]
  },
  {
   "cell_type": "code",
   "execution_count": null,
   "id": "1e89c4bd",
   "metadata": {},
   "outputs": [],
   "source": [
    "links_to_visit = set()\n",
    "for menu_item in header_menu.find_all('li'):\n",
    "    if menu_item.a.text in ['Don Fhoghlaimeoir', 'Don Mhúinteoir']:\n",
    "        for subitem in menu_item.find_all('li'):\n",
    "            links_to_visit.add(URL + subitem.a.get('href'))"
   ]
  },
  {
   "cell_type": "code",
   "execution_count": null,
   "id": "dd2d1042",
   "metadata": {},
   "outputs": [],
   "source": [
    "links_to_visit"
   ]
  },
  {
   "cell_type": "code",
   "execution_count": null,
   "id": "9c94dd9b",
   "metadata": {},
   "outputs": [],
   "source": [
    "lpsoup"
   ]
  },
  {
   "cell_type": "code",
   "execution_count": null,
   "id": "13f72f94",
   "metadata": {},
   "outputs": [],
   "source": [
    "header_menu"
   ]
  }
 ],
 "metadata": {
  "kernelspec": {
   "display_name": "Python 3",
   "language": "python",
   "name": "python3"
  },
  "language_info": {
   "codemirror_mode": {
    "name": "ipython",
    "version": 3
   },
   "file_extension": ".py",
   "mimetype": "text/x-python",
   "name": "python",
   "nbconvert_exporter": "python",
   "pygments_lexer": "ipython3",
   "version": "3.8.2"
  }
 },
 "nbformat": 4,
 "nbformat_minor": 5
}
