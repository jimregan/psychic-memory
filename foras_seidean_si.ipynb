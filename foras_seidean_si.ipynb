{
 "cells": [
  {
   "cell_type": "code",
   "execution_count": null,
   "id": "dfbb826d",
   "metadata": {},
   "outputs": [],
   "source": [
    "import requests\n",
    "from bs4 import BeautifulSoup\n",
    "URL = 'https://www.forasnagaeilge.ie/about/an-gum/seidean-si-leabhairini-urscealta-ranga/'"
   ]
  },
  {
   "cell_type": "code",
   "execution_count": null,
   "id": "1a66a3d5",
   "metadata": {},
   "outputs": [],
   "source": [
    "landing_page = requests.get(URL)\n",
    "if landing_page.status_code != 200:\n",
    "    raise Exception(\"Failed to open landing page\")"
   ]
  },
  {
   "cell_type": "code",
   "execution_count": null,
   "id": "f89bd78b",
   "metadata": {},
   "outputs": [],
   "source": [
    "lpsoup = BeautifulSoup(landing_page.text, 'html.parser')"
   ]
  }
 ],
 "metadata": {
  "kernelspec": {
   "display_name": "Python 3",
   "language": "python",
   "name": "python3"
  },
  "language_info": {
   "codemirror_mode": {
    "name": "ipython",
    "version": 3
   },
   "file_extension": ".py",
   "mimetype": "text/x-python",
   "name": "python",
   "nbconvert_exporter": "python",
   "pygments_lexer": "ipython3",
   "version": "3.8.2"
  }
 },
 "nbformat": 4,
 "nbformat_minor": 5
}
