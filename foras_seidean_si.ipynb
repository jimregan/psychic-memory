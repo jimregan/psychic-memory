{
 "cells": [
  {
   "cell_type": "code",
   "execution_count": null,
   "id": "6e3b5419",
   "metadata": {},
   "outputs": [],
   "source": [
    "import requests\n",
    "from bs4 import BeautifulSoup\n",
    "URL = 'https://www.forasnagaeilge.ie/about/an-gum/seidean-si-leabhairini-urscealta-ranga/'"
   ]
  },
  {
   "cell_type": "code",
   "execution_count": null,
   "id": "7e95fba8",
   "metadata": {},
   "outputs": [],
   "source": [
    "landing_page = requests.get(URL)\n",
    "if landing_page.status_code != 200:\n",
    "    raise Exception(\"Failed to open landing page\")"
   ]
  },
  {
   "cell_type": "code",
   "execution_count": null,
   "id": "05fe8249",
   "metadata": {},
   "outputs": [],
   "source": [
    "lpsoup = BeautifulSoup(landing_page.text, 'html.parser')"
   ]
  },
  {
   "cell_type": "code",
   "execution_count": null,
   "id": "86747ae8",
   "metadata": {},
   "outputs": [],
   "source": [
    "links = set()\n",
    "for anchors in lpsoup.find_all('a'):\n",
    "    if a.get('href').endswith('.pdf') and 'leagan' in a.text.lower():\n",
    "        cur = {}\n",
    "        cur['link'] = a.get('href')\n",
    "        cur['title'] = a.text\n",
    "        links.add(cur)"
   ]
  }
 ],
 "metadata": {
  "kernelspec": {
   "display_name": "Python 3",
   "language": "python",
   "name": "python3"
  },
  "language_info": {
   "codemirror_mode": {
    "name": "ipython",
    "version": 3
   },
   "file_extension": ".py",
   "mimetype": "text/x-python",
   "name": "python",
   "nbconvert_exporter": "python",
   "pygments_lexer": "ipython3",
   "version": "3.8.2"
  }
 },
 "nbformat": 4,
 "nbformat_minor": 5
}
