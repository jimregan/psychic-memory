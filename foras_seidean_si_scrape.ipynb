{
 "cells": [
  {
   "cell_type": "code",
   "execution_count": null,
   "id": "313b2886",
   "metadata": {},
   "outputs": [],
   "source": [
    "import requests\n",
    "from bs4 import BeautifulSoup\n",
    "URL = 'https://www.forasnagaeilge.ie/about/an-gum/seidean-si-leabhairini-urscealta-ranga/'"
   ]
  },
  {
   "cell_type": "code",
   "execution_count": null,
   "id": "e32c439e",
   "metadata": {},
   "outputs": [],
   "source": [
    "landing_page = requests.get(URL)\n",
    "if landing_page.status_code != 200:\n",
    "    raise Exception(\"Failed to open landing page\")"
   ]
  },
  {
   "cell_type": "code",
   "execution_count": null,
   "id": "86b2b300",
   "metadata": {},
   "outputs": [],
   "source": [
    "lpsoup = BeautifulSoup(landing_page.text, 'html.parser')"
   ]
  },
  {
   "cell_type": "code",
   "execution_count": null,
   "id": "a4a58d2d",
   "metadata": {},
   "outputs": [],
   "source": [
    "links = list()\n",
    "for anchors in lpsoup.find_all('a'):\n",
    "    if anchors.get('href') and anchors.get('href').endswith('.pdf') and 'leagan' in anchors.text.lower():\n",
    "        cur = {}\n",
    "        cur['link'] = anchors.get('href')\n",
    "        cur['title'] = anchors.text\n",
    "        links.append(cur)"
   ]
  },
  {
   "cell_type": "code",
   "execution_count": null,
   "id": "2a7da3d4",
   "metadata": {},
   "outputs": [],
   "source": [
    "collected = {}\n",
    "for link in links:\n",
    "    if link['title'].startswith('\\\\Leagan'):\n",
    "        title = 'Murach an Traenáil ar fad'\n",
    "    else:\n",
    "        title = link['title'].split('_leagan')[0]\n",
    "    if 'Connacht' in link['title']:\n",
    "        dialect = 'C'\n",
    "    elif 'Muimh' in link['title']:\n",
    "        dialect = 'M'\n",
    "    else:\n",
    "        dialect = 'U'\n",
    "    if collected.get(title) == None:\n",
    "        collected[title] = {}\n",
    "    collected[title][dialect] = link['link']"
   ]
  },
  {
   "cell_type": "code",
   "execution_count": null,
   "id": "c0adef39",
   "metadata": {},
   "outputs": [],
   "source": [
    "import json\n",
    "with open('seidean_si.json', 'w') as outfile:\n",
    "    json.dump(collected, outfile)"
   ]
  }
 ],
 "metadata": {
  "kernelspec": {
   "display_name": "Python 3",
   "language": "python",
   "name": "python3"
  },
  "language_info": {
   "codemirror_mode": {
    "name": "ipython",
    "version": 3
   },
   "file_extension": ".py",
   "mimetype": "text/x-python",
   "name": "python",
   "nbconvert_exporter": "python",
   "pygments_lexer": "ipython3",
   "version": "3.8.2"
  }
 },
 "nbformat": 4,
 "nbformat_minor": 5
}
